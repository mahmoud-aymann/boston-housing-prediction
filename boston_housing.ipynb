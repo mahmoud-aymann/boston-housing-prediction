{
 "cells": [
  {
   "cell_type": "markdown",
   "metadata": {},
   "source": [
    "# Machine Learning Engineer Nanodegree\n",
    "## Model Evaluation & Validation\n",
    "## Project: Predicting Boston Housing Prices\n",
    "\n",
    "Welcome to the first project of the Machine Learning Engineer\n",
    "### first project \n",
    "* \n",
    "read the housing dataset and show the first 5 linef "
   ]
  },
  {
   "cell_type": "code",
   "execution_count": 2,
   "metadata": {},
   "outputs": [],
   "source": [
    "# Import libraries necessary for this project\n",
    "import numpy as np\n",
    "import pandas as pd\n",
    "import visuals as vs # Supplementary code\n",
    "from sklearn.model_selection import ShuffleSplit\n",
    "\n"
   ]
  },
  {
   "cell_type": "markdown",
   "metadata": {},
   "source": [
    "#### read the data saved on the same location and display it "
   ]
  },
  {
   "cell_type": "code",
   "execution_count": 3,
   "metadata": {},
   "outputs": [],
   "source": [
    "\n",
    "# Pretty display for notebooks\n",
    "%matplotlib inline\n",
    "\n",
    "# Load the Boston housing dataset\n",
    "data = pd.read_csv('housing.csv')\n"
   ]
  },
  {
   "cell_type": "markdown",
   "metadata": {},
   "source": [
    "* gathering all information about dataset\n",
    "* 1- type of all data\n",
    "* shape of the data\n",
    "* read the statistics of this data\n",
    "* read the statistic of the MEDV feature and see if they are any outliers or missing values"
   ]
  },
  {
   "cell_type": "code",
   "execution_count": 4,
   "metadata": {},
   "outputs": [
    {
     "name": "stdout",
     "output_type": "stream",
     "text": [
      "First 5 rows of the dataset:\n",
      "      RM  LSTAT  PTRATIO      MEDV\n",
      "0  6.575   4.98     15.3  504000.0\n",
      "1  6.421   9.14     17.8  453600.0\n",
      "2  7.185   4.03     17.8  728700.0\n",
      "3  6.998   2.94     18.7  701400.0\n",
      "4  7.147   5.33     18.7  760200.0\n",
      "\n",
      "==================================================\n",
      "Data types:\n",
      "RM         float64\n",
      "LSTAT      float64\n",
      "PTRATIO    float64\n",
      "MEDV       float64\n",
      "dtype: object\n",
      "\n",
      "==================================================\n",
      "Shape of the data:\n",
      "(489, 4)\n",
      "\n",
      "==================================================\n",
      "Basic statistics:\n",
      "               RM       LSTAT     PTRATIO          MEDV\n",
      "count  489.000000  489.000000  489.000000  4.890000e+02\n",
      "mean     6.240288   12.939632   18.516564  4.543429e+05\n",
      "std      0.643650    7.081990    2.111268  1.653403e+05\n",
      "min      3.561000    1.980000   12.600000  1.050000e+05\n",
      "25%      5.880000    7.370000   17.400000  3.507000e+05\n",
      "50%      6.185000   11.690000   19.100000  4.389000e+05\n",
      "75%      6.575000   17.120000   20.200000  5.187000e+05\n",
      "max      8.398000   37.970000   22.000000  1.024800e+06\n",
      "\n",
      "==================================================\n",
      "Statistics of MEDV (target variable):\n",
      "count    4.890000e+02\n",
      "mean     4.543429e+05\n",
      "std      1.653403e+05\n",
      "min      1.050000e+05\n",
      "25%      3.507000e+05\n",
      "50%      4.389000e+05\n",
      "75%      5.187000e+05\n",
      "max      1.024800e+06\n",
      "Name: MEDV, dtype: float64\n",
      "\n",
      "==================================================\n",
      "Missing values:\n",
      "RM         0\n",
      "LSTAT      0\n",
      "PTRATIO    0\n",
      "MEDV       0\n",
      "dtype: int64\n",
      "\n",
      "==================================================\n",
      "Outliers detection (using IQR method):\n",
      "Number of outliers: 22\n",
      "Outlier range: < $98,700.00 or > $770,700.00\n"
     ]
    }
   ],
   "source": [
    "#write your code here\n",
    "print(\"First 5 rows of the dataset:\")\n",
    "print(data.head())\n",
    "print(\"\\n\" + \"=\"*50)\n",
    "\n",
    "#1- type of all data\n",
    "print(\"Data types:\")\n",
    "print(data.dtypes)\n",
    "print(\"\\n\" + \"=\"*50)\n",
    "\n",
    "# print the shape of your data\n",
    "print(\"Shape of the data:\")\n",
    "print(data.shape)\n",
    "print(\"\\n\" + \"=\"*50)\n",
    "\n",
    "# display the basic statistics\n",
    "print(\"Basic statistics:\")\n",
    "print(data.describe())\n",
    "print(\"\\n\" + \"=\"*50)\n",
    "\n",
    "# display statistics of prediction column\n",
    "print(\"Statistics of MEDV (target variable):\")\n",
    "print(data['MEDV'].describe())\n",
    "print(\"\\n\" + \"=\"*50)\n",
    "\n",
    "# Check for missing values\n",
    "print(\"Missing values:\")\n",
    "print(data.isnull().sum())\n",
    "print(\"\\n\" + \"=\"*50)\n",
    "\n",
    "# Check for outliers in MEDV\n",
    "print(\"Outliers detection (using IQR method):\")\n",
    "Q1 = data['MEDV'].quantile(0.25)\n",
    "Q3 = data['MEDV'].quantile(0.75)\n",
    "IQR = Q3 - Q1\n",
    "lower_bound = Q1 - 1.5 * IQR\n",
    "upper_bound = Q3 + 1.5 * IQR\n",
    "outliers = data[(data['MEDV'] < lower_bound) | (data['MEDV'] > upper_bound)]\n",
    "print(f\"Number of outliers: {len(outliers)}\")\n",
    "print(f\"Outlier range: < ${lower_bound:,.2f} or > ${upper_bound:,.2f}\")\n"
   ]
  },
  {
   "cell_type": "markdown",
   "metadata": {},
   "source": [
    "* on the code below i assign new var for the prediction column and drop it from original dataset\n",
    "* i assigne the prediction column as a price and other column as a features data"
   ]
  },
  {
   "cell_type": "code",
   "execution_count": 5,
   "metadata": {},
   "outputs": [
    {
     "name": "stdout",
     "output_type": "stream",
     "text": [
      "Boston housing dataset has 489 data points with 4 variables each.\n"
     ]
    }
   ],
   "source": [
    "prices = data['MEDV']\n",
    "features = data.drop('MEDV', axis = 1)\n",
    "# print the shape of the data\n",
    "print('Boston housing dataset has {0} data points with {1} variables each.'.format(*data.shape))"
   ]
  },
  {
   "cell_type": "markdown",
   "metadata": {},
   "source": [
    "## Data Exploration\n",
    "In this first section of this project, you will make a cursory investigation about the Boston housing data and provide your observations. Familiarizing yourself with the data through an explorative process is a fundamental practice to help you better understand and justify your results.\n",
    "\n",
    "Since the main goal of this project is to construct a working model which has the capability of predicting the value of houses, we will need to separate the dataset into **features** and the **target variable**. \n",
    "* The **features**, `'RM'`, `'LSTAT'`, and `'PTRATIO'`, give us quantitative information about each data point.\n",
    "*  The **target variable**, `'MEDV'`, will be the variable we seek to predict. These are stored in `features` and `prices`, respectively."
   ]
  },
  {
   "cell_type": "markdown",
   "metadata": {},
   "source": [
    "### Implementation: Calculate Statistics\n",
    "***\n",
    "***\n"
   ]
  },
  {
   "cell_type": "markdown",
   "metadata": {},
   "source": [
    "* claculate the statistics for the code below\n",
    "* get the minimum  and the max of the price data\n",
    "* get the mean\n",
    "* get the median\n",
    "* get the mode\n",
    "* calculate the std\n",
    "- need to print the data "
   ]
  },
  {
   "cell_type": "code",
   "execution_count": 6,
   "metadata": {},
   "outputs": [
    {
     "name": "stdout",
     "output_type": "stream",
     "text": [
      "Statistics for Boston housing dataset:\n",
      "\n",
      "Minimum price: $105,000.00\n",
      "Maximum price: $1,024,800.00\n",
      "Mean price: $454,342.94\n",
      "Median price $438,900.00\n",
      "Standard deviation of prices: $165,340.28\n"
     ]
    }
   ],
   "source": [
    "# TODO: Minimum price of the data\n",
    "minimum_price = prices.min()\n",
    "\n",
    "# TODO: Maximum price of the data\n",
    "maximum_price = prices.max()\n",
    "\n",
    "# TODO: Mean price of the data\n",
    "mean_price = prices.mean()\n",
    "\n",
    "# TODO: Median price of the data\n",
    "median_price = prices.median()\n",
    "\n",
    "# TODO: Standard deviation of prices of the data\n",
    "std_price = prices.std()\n",
    "\n",
    "# Show the calculated statistics\n",
    "print(\"Statistics for Boston housing dataset:\\n\")\n",
    "print(\"Minimum price: ${:,.2f}\".format(minimum_price))\n",
    "print(\"Maximum price: ${:,.2f}\".format(maximum_price))\n",
    "print(\"Mean price: ${:,.2f}\".format(mean_price))\n",
    "print(\"Median price ${:,.2f}\".format(median_price))\n",
    "print(\"Standard deviation of prices: ${:,.2f}\".format(std_price))"
   ]
  },
  {
   "cell_type": "markdown",
   "metadata": {},
   "source": [
    "### Question 1 - Feature Observation\n",
    "As a reminder, we are using three features from the Boston housing dataset: `'RM'`, `'LSTAT'`, and `'PTRATIO'`. For each data point (neighborhood):\n",
    "- `'RM'` is the average number of rooms among homes in the neighborhood.\n",
    "- `'LSTAT'` is the percentage of homeowners in the neighborhood considered \"lower class\" (working poor).\n",
    "- `'PTRATIO'` is the ratio of students to teachers in primary and secondary schools in the neighborhood.\n",
    "\n",
    "\n",
    "** Using your intuition, for each of the three features above, do you think that an increase in the value of that feature would lead to an **increase** in the value of `'MEDV'` or a **decrease** in the value of `'MEDV'`? Justify your answer for each.**\n"
   ]
  },
  {
   "cell_type": "markdown",
   "metadata": {},
   "source": [
    "## **Answer:**\n",
    "\n",
    "Based on my understanding of the features and their relationship to house prices:\n",
    "\n",
    "1. **RM (Average number of rooms)**: An increase in RM would lead to an **increase** in MEDV (house price). More rooms generally indicate a larger house, which typically costs more.\n",
    "\n",
    "2. **LSTAT (Percentage of lower class workers)**: An increase in LSTAT would lead to a **decrease** in MEDV (house price). Higher poverty levels in a neighborhood generally correlate with lower property values.\n",
    "\n",
    "3. **PTRATIO (Student-teacher ratio)**: An increase in PTRATIO would lead to a **decrease** in MEDV (house price). Higher student-teacher ratios often indicate lower quality schools, which can negatively impact property values.\n",
    "\n",
    "These relationships make intuitive sense from a real estate perspective - larger homes in better school districts with lower poverty rates typically command higher prices."
   ]
  },
  {
   "cell_type": "markdown",
   "metadata": {},
   "source": [
    "\n",
    "**Hint:** This problem can phrased using examples like below.  \n"
   ]
  },
  {
   "cell_type": "markdown",
   "metadata": {},
   "source": [
    "* Would you expect a home that has an `'RM'` value(number of rooms) of 6 be worth more or less than a home that has an `'RM'` value of 7?\n"
   ]
  },
  {
   "cell_type": "markdown",
   "metadata": {},
   "source": []
  },
  {
   "cell_type": "markdown",
   "metadata": {},
   "source": [
    "* Would you expect a neighborhood that has an `'LSTAT'` value(percent of lower class workers) of 15 have home prices be worth more or less than a neighborhood that has an `'LSTAT'` value of 20?\n"
   ]
  },
  {
   "cell_type": "markdown",
   "metadata": {},
   "source": []
  },
  {
   "cell_type": "markdown",
   "metadata": {},
   "source": [
    "* Would you expect a neighborhood that has an `'PTRATIO'` value(ratio of students to teachers) of 10 have home prices be worth more or less than a neighborhood that has an `'PTRATIO'` value of 15?"
   ]
  },
  {
   "cell_type": "markdown",
   "metadata": {},
   "source": []
  },
  {
   "cell_type": "markdown",
   "metadata": {},
   "source": [
    "********************************"
   ]
  },
  {
   "cell_type": "markdown",
   "metadata": {},
   "source": [
    "----\n",
    "\n",
    "## Developing a Model\n",
    "In this second section of the project, you will develop the tools and techniques necessary for a model to make a prediction. Being able to make accurate evaluations of each model's performance through the use of these tools and techniques helps to greatly reinforce the confidence in your predictions."
   ]
  },
  {
   "cell_type": "markdown",
   "metadata": {},
   "source": [
    "## takecare for this part to focus for every stage"
   ]
  },
  {
   "cell_type": "markdown",
   "metadata": {},
   "source": [
    "*****************************\n",
    "**************************"
   ]
  },
  {
   "cell_type": "markdown",
   "metadata": {},
   "source": [
    "*****************************************\n",
    "********************************************"
   ]
  },
  {
   "cell_type": "markdown",
   "metadata": {},
   "source": [
    "## R2 Score"
   ]
  },
  {
   "cell_type": "markdown",
   "metadata": {},
   "source": [
    "### Implementation: Define a Performance Metric\n",
    "- It is difficult to measure the quality of a given model without quantifying its performance over training and testing.\n",
    "- This is typically done using some type of performance metric, whether it is through calculating some type of error, the goodness of fit, or some other useful measurement.\n",
    "-  For this project, you will be calculating the [*coefficient of determination*](http://stattrek.com/statistics/dictionary.aspx?definition=coefficient_of_determination), R<sup>2</sup>, to quantify your model's performance.\n",
    "-  The coefficient of determination for a model is a useful statistic in regression analysis, as it often describes how \"good\" that model is at making predictions. \n",
    "******************************************\n"
   ]
  },
  {
   "cell_type": "markdown",
   "metadata": {},
   "source": [
    "The values for R<sup>2</sup> range from 0 to 1, which captures the percentage of squared correlation between the predicted and actual values of the **target variable**. \n",
    "************************************\n",
    "A model with an R<sup>2</sup> of 0 is no better than a model that always predicts the *mean* of the target variable, whereas a model with an R<sup>2</sup> of 1 perfectly predicts the target variable. \n",
    "\n",
    "Any value between 0 and 1 indicates what percentage of the target variable, using this model, can be explained by the **features**. _A model can be given a negative R<sup>2</sup> as well, which indicates that the model is **arbitrarily worse** than one that always predicts the mean of the target variable.\n",
    "\n",
    "******************************************\n",
    "For the `performance_metric` function in the code cell below, you will need to implement the following:\n",
    "- Use `r2_score` from `sklearn.metrics` to perform a performance calculation between `y_true` and `y_predict`.\n",
    "- Assign the performance score to the `score` variable."
   ]
  },
  {
   "cell_type": "code",
   "execution_count": 7,
   "metadata": {},
   "outputs": [],
   "source": [
    "# TODO: Import 'r2_score'\n",
    "from sklearn.metrics import r2_score\n",
    "\n",
    "def performance_metric(y_test, y_predict):\n",
    "    \"\"\" Calculates and returns the performance score between \n",
    "        test and predicted values based on the metric chosen. \"\"\"\n",
    "    \n",
    "    # TODO: Calculate the performance score between 'y_test' and 'y_predict'\n",
    "    score = r2_score(y_test, y_predict)\n",
    "    \n",
    "    # Return the score\n",
    "    return score"
   ]
  },
  {
   "cell_type": "markdown",
   "metadata": {},
   "source": [
    "### Question 2 - Goodness of Fit\n",
    "Assume that a dataset contains five data points and a model made the following predictions for the target variable:\n",
    "\n",
    "| True Value | Prediction |\n",
    "| :-------------: | :--------: |\n",
    "| 3.0 | 2.5 |\n",
    "| -0.5 | 0.0 |\n",
    "| 2.0 | 2.1 |\n",
    "| 7.0 | 7.8 |\n",
    "| 4.2 | 5.3 |\n",
    "\n",
    "Run the code cell below to use the `performance_metric` function and calculate this model's coefficient of determination."
   ]
  },
  {
   "cell_type": "code",
   "execution_count": 8,
   "metadata": {},
   "outputs": [
    {
     "name": "stdout",
     "output_type": "stream",
     "text": [
      "Model has a coefficient of determination, R^2, of 0.923.\n"
     ]
    }
   ],
   "source": [
    "# Calculate the performance of this model\n",
    "score = performance_metric([3, -0.5, 2, 7, 4.2], [2.5, 0.0, 2.1, 7.8, 5.3])\n",
    "print (\"Model has a coefficient of determination, R^2, of {:.3f}.\".format(score))"
   ]
  },
  {
   "cell_type": "markdown",
   "metadata": {},
   "source": [
    "* Would you consider this model to have successfully captured the variation of the target variable? \n",
    "* Why or why not?\n",
    "\n",
    "** Hint: **  The R2 score is the proportion of the variance in the dependent variable that is predictable from the independent variable. In other words:\n",
    "* R2 score of 0 means that the dependent variable cannot be predicted from the independent variable.\n",
    "* R2 score of 1 means the dependent variable can be predicted from the independent variable.\n",
    "* R2 score between 0 and 1 indicates the extent to which the dependent variable is predictable. An \n",
    "* R2 score of 0.40 means that 40 percent of the variance in Y is predictable from X."
   ]
  },
  {
   "cell_type": "markdown",
   "metadata": {},
   "source": [
    "### **Answer:**\n",
    "\n",
    "Yes, I would consider this model to have successfully captured the variation of the target variable. Here's why:\n",
    "\n",
    "- **R² score of 0.923** indicates that the model explains 92.3% of the variance in the target variable, which is excellent.\n",
    "- This means the model is performing very well and can predict the target variable with high accuracy.\n",
    "- An R² score above 0.9 is generally considered very good in machine learning applications.\n",
    "- The model is much better than a baseline model that always predicts the mean value (which would have R² = 0).\n",
    "\n",
    "The high R² score suggests that the model has learned meaningful patterns from the data and can make reliable predictions.\n",
    "\n"
   ]
  },
  {
   "cell_type": "markdown",
   "metadata": {},
   "source": []
  },
  {
   "cell_type": "markdown",
   "metadata": {},
   "source": [
    "### Implementation: Shuffle and Split Data\n",
    "- Your next implementation requires that you take the Boston housing dataset and split the data into training and testing subsets.\n",
    "-  Typically, the data is also shuffled into a random order when creating the training and testing subsets to remove any bias in the ordering of the dataset.\n",
    "\n",
    "For the code cell below, you will need to implement the following:\n",
    "- Use `train_test_split` from `sklearn.cross_validation` to shuffle and split the `features` and `prices` data into training and testing sets.\n",
    "  - Split the data into 80% training and 20% testing.\n",
    "  - Set the `random_state` for `train_test_split` to a value of your choice. This ensures results are consistent.\n",
    "- Assign the train and testing splits to `X_train`, `X_test`, `y_train`, and `y_test`."
   ]
  },
  {
   "cell_type": "code",
   "execution_count": 9,
   "metadata": {},
   "outputs": [
    {
     "name": "stdout",
     "output_type": "stream",
     "text": [
      "Training and testing split was successful.\n"
     ]
    }
   ],
   "source": [
    "# TODO: Import 'train_test_split'\n",
    "from sklearn.model_selection import train_test_split\n",
    "\n",
    "# TODO: Shuffle and split the data into training and testing subsets\n",
    "X_train, X_test, y_train, y_test = train_test_split(features, prices, test_size=0.2, random_state=1)\n",
    "\n",
    "# Success\n",
    "print(\"Training and testing split was successful.\")"
   ]
  },
  {
   "cell_type": "markdown",
   "metadata": {},
   "source": [
    "### Question 3 - Training and Testing\n",
    "\n",
    "* What is the benefit to splitting a dataset into some ratio of training and testing subsets for a learning algorithm?\n",
    "\n",
    "**Hint:** Think about how overfitting or underfitting is contingent upon how splits on data is done."
   ]
  },
  {
   "cell_type": "markdown",
   "metadata": {},
   "source": [
    "### **Answer:**\n",
    "\n",
    "Splitting a dataset into training and testing subsets provides several important benefits:\n",
    "\n",
    "1. **Prevents Overfitting**: By testing the model on unseen data, we can detect if the model has memorized the training data rather than learning generalizable patterns.\n",
    "\n",
    "2. **Provides Unbiased Performance Evaluation**: The test set gives us an unbiased estimate of how well the model will perform on new, unseen data.\n",
    "\n",
    "3. **Helps with Model Selection**: We can compare different models or hyperparameters by evaluating their performance on the same test set.\n",
    "\n",
    "4. **Detects Underfitting**: If both training and test performance are poor, it indicates the model is too simple (underfitting).\n",
    "\n",
    "5. **Validates Generalization**: It ensures the model can generalize beyond the specific data it was trained on.\n",
    "\n",
    "Without this split, we wouldn't know if our model is actually learning useful patterns or just memorizing the training data, which would lead to poor performance on new data.\n"
   ]
  },
  {
   "cell_type": "markdown",
   "metadata": {},
   "source": []
  },
  {
   "cell_type": "markdown",
   "metadata": {},
   "source": [
    "----\n",
    "\n",
    "## Analyzing Model Performance\n",
    "In this third section of the project, you'll take a look at several models' learning and testing performances on various subsets of training data. Additionally, you'll investigate one particular algorithm with an increasing `'max_depth'` parameter on the full training set to observe how model complexity affects performance. Graphing your model's performance based on varying criteria can be beneficial in the analysis process, such as visualizing behavior that may not have been apparent from the results alone."
   ]
  },
  {
   "cell_type": "markdown",
   "metadata": {},
   "source": [
    "### Learning Curves\n",
    "The following code cell produces four graphs for a decision tree model with different maximum depths. Each graph visualizes the learning curves of the model for both training and testing as the size of the training set is increased. Note that the shaded region of a learning curve denotes the uncertainty of that curve (measured as the standard deviation). The model is scored on both the training and testing sets using R<sup>2</sup>, the coefficient of determination.  \n",
    "\n",
    "Run the code cell below and use these graphs to answer the following question."
   ]
  },
  {
   "cell_type": "code",
   "execution_count": 11,
   "metadata": {},
   "outputs": [],
   "source": [
    "import warnings\n",
    "import matplotlib.pyplot as plt\n",
    "import numpy as np\n",
    "from sklearn.model_selection import learning_curve, ShuffleSplit, train_test_split\n",
    "from sklearn.tree import DecisionTreeRegressor\n",
    "\n",
    "# Suppress matplotlib user warnings\n",
    "warnings.filterwarnings(\"ignore\", category=UserWarning, module=\"matplotlib\")\n",
    "\n",
    "# Display inline matplotlib plots with IPython\n",
    "from IPython import get_ipython\n",
    "get_ipython().run_line_magic('matplotlib', 'inline')\n",
    "\n",
    "def ModelLearning(X, y):\n",
    "    \"\"\"Calculates the performance of several models with varying sizes of training data.\n",
    "       The learning and testing scores for each model are then plotted.\"\"\"\n",
    "    \n",
    "    # Create 10 cross-validation sets for training and testing\n",
    "    cv = ShuffleSplit(n_splits=10, test_size=0.2, random_state=0)\n",
    "\n",
    "    # Generate the training set sizes increasing by 50\n",
    "    train_sizes = np.rint(np.linspace(1, X.shape[0] * 0.8 - 1, 9)).astype(int)\n",
    "\n",
    "    # Create the figure window\n",
    "    fig, axes = plt.subplots(2, 2, figsize=(10, 7))\n",
    "\n",
    "    # Create four different models based on max_depth\n",
    "    for k, depth in enumerate([1, 3, 6, 10]):\n",
    "        # Create a Decision tree regressor at max_depth = depth\n",
    "        regressor = DecisionTreeRegressor(max_depth=depth)\n",
    "\n",
    "        # Calculate the training and testing scores\n",
    "        sizes, train_scores, test_scores = learning_curve(\n",
    "            regressor, X, y, cv=cv, train_sizes=train_sizes, scoring='r2'\n",
    "        )\n",
    "        \n",
    "        # Find the mean and standard deviation for smoothing\n",
    "        train_mean = np.mean(train_scores, axis=1)\n",
    "        train_std = np.std(train_scores, axis=1)\n",
    "        test_mean = np.mean(test_scores, axis=1)\n",
    "        test_std = np.std(test_scores, axis=1)\n",
    "\n",
    "        # Subplot the learning curve \n",
    "        ax = axes[k//2, k%2]\n",
    "        ax.plot(sizes, train_mean, 'o-', color='r', label='Training Score')\n",
    "        ax.plot(sizes, test_mean, 'o-', color='g', label='Testing Score')\n",
    "        ax.fill_between(sizes, train_mean - train_std, train_mean + train_std, alpha=0.15, color='r')\n",
    "        ax.fill_between(sizes, test_mean - test_std, test_mean + test_std, alpha=0.15, color='g')\n",
    "        \n",
    "        # Labels\n",
    "        ax.set_title(f'max_depth = {depth}')\n",
    "        ax.set_xlabel('Number of Training Points')\n",
    "        ax.set_ylabel('Score')\n",
    "        ax.set_xlim([0, X.shape[0] * 0.8])\n",
    "        ax.set_ylim([-0.05, 1.05])\n",
    "        ax.legend(loc='lower right')\n",
    "    \n",
    "    # Visual aesthetics\n",
    "    fig.suptitle('Decision Tree Regressor Learning Performances', fontsize=16, y=1.03)\n",
    "    fig.tight_layout()\n",
    "    plt.show()\n"
   ]
  },
  {
   "cell_type": "code",
   "execution_count": 12,
   "metadata": {},
   "outputs": [
    {
     "name": "stderr",
     "output_type": "stream",
     "text": [
      "d:\\AI_Diploma\\AI_diploma\\venv\\Lib\\site-packages\\sklearn\\metrics\\_regression.py:1283: UndefinedMetricWarning: R^2 score is not well-defined with less than two samples.\n",
      "  warnings.warn(msg, UndefinedMetricWarning)\n",
      "d:\\AI_Diploma\\AI_diploma\\venv\\Lib\\site-packages\\sklearn\\metrics\\_regression.py:1283: UndefinedMetricWarning: R^2 score is not well-defined with less than two samples.\n",
      "  warnings.warn(msg, UndefinedMetricWarning)\n",
      "d:\\AI_Diploma\\AI_diploma\\venv\\Lib\\site-packages\\sklearn\\metrics\\_regression.py:1283: UndefinedMetricWarning: R^2 score is not well-defined with less than two samples.\n",
      "  warnings.warn(msg, UndefinedMetricWarning)\n",
      "d:\\AI_Diploma\\AI_diploma\\venv\\Lib\\site-packages\\sklearn\\metrics\\_regression.py:1283: UndefinedMetricWarning: R^2 score is not well-defined with less than two samples.\n",
      "  warnings.warn(msg, UndefinedMetricWarning)\n",
      "d:\\AI_Diploma\\AI_diploma\\venv\\Lib\\site-packages\\sklearn\\metrics\\_regression.py:1283: UndefinedMetricWarning: R^2 score is not well-defined with less than two samples.\n",
      "  warnings.warn(msg, UndefinedMetricWarning)\n",
      "d:\\AI_Diploma\\AI_diploma\\venv\\Lib\\site-packages\\sklearn\\metrics\\_regression.py:1283: UndefinedMetricWarning: R^2 score is not well-defined with less than two samples.\n",
      "  warnings.warn(msg, UndefinedMetricWarning)\n",
      "d:\\AI_Diploma\\AI_diploma\\venv\\Lib\\site-packages\\sklearn\\metrics\\_regression.py:1283: UndefinedMetricWarning: R^2 score is not well-defined with less than two samples.\n",
      "  warnings.warn(msg, UndefinedMetricWarning)\n",
      "d:\\AI_Diploma\\AI_diploma\\venv\\Lib\\site-packages\\sklearn\\metrics\\_regression.py:1283: UndefinedMetricWarning: R^2 score is not well-defined with less than two samples.\n",
      "  warnings.warn(msg, UndefinedMetricWarning)\n",
      "d:\\AI_Diploma\\AI_diploma\\venv\\Lib\\site-packages\\sklearn\\metrics\\_regression.py:1283: UndefinedMetricWarning: R^2 score is not well-defined with less than two samples.\n",
      "  warnings.warn(msg, UndefinedMetricWarning)\n",
      "d:\\AI_Diploma\\AI_diploma\\venv\\Lib\\site-packages\\sklearn\\metrics\\_regression.py:1283: UndefinedMetricWarning: R^2 score is not well-defined with less than two samples.\n",
      "  warnings.warn(msg, UndefinedMetricWarning)\n",
      "d:\\AI_Diploma\\AI_diploma\\venv\\Lib\\site-packages\\sklearn\\metrics\\_regression.py:1283: UndefinedMetricWarning: R^2 score is not well-defined with less than two samples.\n",
      "  warnings.warn(msg, UndefinedMetricWarning)\n",
      "d:\\AI_Diploma\\AI_diploma\\venv\\Lib\\site-packages\\sklearn\\metrics\\_regression.py:1283: UndefinedMetricWarning: R^2 score is not well-defined with less than two samples.\n",
      "  warnings.warn(msg, UndefinedMetricWarning)\n",
      "d:\\AI_Diploma\\AI_diploma\\venv\\Lib\\site-packages\\sklearn\\metrics\\_regression.py:1283: UndefinedMetricWarning: R^2 score is not well-defined with less than two samples.\n",
      "  warnings.warn(msg, UndefinedMetricWarning)\n",
      "d:\\AI_Diploma\\AI_diploma\\venv\\Lib\\site-packages\\sklearn\\metrics\\_regression.py:1283: UndefinedMetricWarning: R^2 score is not well-defined with less than two samples.\n",
      "  warnings.warn(msg, UndefinedMetricWarning)\n",
      "d:\\AI_Diploma\\AI_diploma\\venv\\Lib\\site-packages\\sklearn\\metrics\\_regression.py:1283: UndefinedMetricWarning: R^2 score is not well-defined with less than two samples.\n",
      "  warnings.warn(msg, UndefinedMetricWarning)\n",
      "d:\\AI_Diploma\\AI_diploma\\venv\\Lib\\site-packages\\sklearn\\metrics\\_regression.py:1283: UndefinedMetricWarning: R^2 score is not well-defined with less than two samples.\n",
      "  warnings.warn(msg, UndefinedMetricWarning)\n",
      "d:\\AI_Diploma\\AI_diploma\\venv\\Lib\\site-packages\\sklearn\\metrics\\_regression.py:1283: UndefinedMetricWarning: R^2 score is not well-defined with less than two samples.\n",
      "  warnings.warn(msg, UndefinedMetricWarning)\n",
      "d:\\AI_Diploma\\AI_diploma\\venv\\Lib\\site-packages\\sklearn\\metrics\\_regression.py:1283: UndefinedMetricWarning: R^2 score is not well-defined with less than two samples.\n",
      "  warnings.warn(msg, UndefinedMetricWarning)\n",
      "d:\\AI_Diploma\\AI_diploma\\venv\\Lib\\site-packages\\sklearn\\metrics\\_regression.py:1283: UndefinedMetricWarning: R^2 score is not well-defined with less than two samples.\n",
      "  warnings.warn(msg, UndefinedMetricWarning)\n",
      "d:\\AI_Diploma\\AI_diploma\\venv\\Lib\\site-packages\\sklearn\\metrics\\_regression.py:1283: UndefinedMetricWarning: R^2 score is not well-defined with less than two samples.\n",
      "  warnings.warn(msg, UndefinedMetricWarning)\n",
      "d:\\AI_Diploma\\AI_diploma\\venv\\Lib\\site-packages\\sklearn\\metrics\\_regression.py:1283: UndefinedMetricWarning: R^2 score is not well-defined with less than two samples.\n",
      "  warnings.warn(msg, UndefinedMetricWarning)\n",
      "d:\\AI_Diploma\\AI_diploma\\venv\\Lib\\site-packages\\sklearn\\metrics\\_regression.py:1283: UndefinedMetricWarning: R^2 score is not well-defined with less than two samples.\n",
      "  warnings.warn(msg, UndefinedMetricWarning)\n",
      "d:\\AI_Diploma\\AI_diploma\\venv\\Lib\\site-packages\\sklearn\\metrics\\_regression.py:1283: UndefinedMetricWarning: R^2 score is not well-defined with less than two samples.\n",
      "  warnings.warn(msg, UndefinedMetricWarning)\n",
      "d:\\AI_Diploma\\AI_diploma\\venv\\Lib\\site-packages\\sklearn\\metrics\\_regression.py:1283: UndefinedMetricWarning: R^2 score is not well-defined with less than two samples.\n",
      "  warnings.warn(msg, UndefinedMetricWarning)\n",
      "d:\\AI_Diploma\\AI_diploma\\venv\\Lib\\site-packages\\sklearn\\metrics\\_regression.py:1283: UndefinedMetricWarning: R^2 score is not well-defined with less than two samples.\n",
      "  warnings.warn(msg, UndefinedMetricWarning)\n",
      "d:\\AI_Diploma\\AI_diploma\\venv\\Lib\\site-packages\\sklearn\\metrics\\_regression.py:1283: UndefinedMetricWarning: R^2 score is not well-defined with less than two samples.\n",
      "  warnings.warn(msg, UndefinedMetricWarning)\n",
      "d:\\AI_Diploma\\AI_diploma\\venv\\Lib\\site-packages\\sklearn\\metrics\\_regression.py:1283: UndefinedMetricWarning: R^2 score is not well-defined with less than two samples.\n",
      "  warnings.warn(msg, UndefinedMetricWarning)\n",
      "d:\\AI_Diploma\\AI_diploma\\venv\\Lib\\site-packages\\sklearn\\metrics\\_regression.py:1283: UndefinedMetricWarning: R^2 score is not well-defined with less than two samples.\n",
      "  warnings.warn(msg, UndefinedMetricWarning)\n",
      "d:\\AI_Diploma\\AI_diploma\\venv\\Lib\\site-packages\\sklearn\\metrics\\_regression.py:1283: UndefinedMetricWarning: R^2 score is not well-defined with less than two samples.\n",
      "  warnings.warn(msg, UndefinedMetricWarning)\n",
      "d:\\AI_Diploma\\AI_diploma\\venv\\Lib\\site-packages\\sklearn\\metrics\\_regression.py:1283: UndefinedMetricWarning: R^2 score is not well-defined with less than two samples.\n",
      "  warnings.warn(msg, UndefinedMetricWarning)\n",
      "d:\\AI_Diploma\\AI_diploma\\venv\\Lib\\site-packages\\sklearn\\metrics\\_regression.py:1283: UndefinedMetricWarning: R^2 score is not well-defined with less than two samples.\n",
      "  warnings.warn(msg, UndefinedMetricWarning)\n",
      "d:\\AI_Diploma\\AI_diploma\\venv\\Lib\\site-packages\\sklearn\\metrics\\_regression.py:1283: UndefinedMetricWarning: R^2 score is not well-defined with less than two samples.\n",
      "  warnings.warn(msg, UndefinedMetricWarning)\n",
      "d:\\AI_Diploma\\AI_diploma\\venv\\Lib\\site-packages\\sklearn\\metrics\\_regression.py:1283: UndefinedMetricWarning: R^2 score is not well-defined with less than two samples.\n",
      "  warnings.warn(msg, UndefinedMetricWarning)\n",
      "d:\\AI_Diploma\\AI_diploma\\venv\\Lib\\site-packages\\sklearn\\metrics\\_regression.py:1283: UndefinedMetricWarning: R^2 score is not well-defined with less than two samples.\n",
      "  warnings.warn(msg, UndefinedMetricWarning)\n",
      "d:\\AI_Diploma\\AI_diploma\\venv\\Lib\\site-packages\\sklearn\\metrics\\_regression.py:1283: UndefinedMetricWarning: R^2 score is not well-defined with less than two samples.\n",
      "  warnings.warn(msg, UndefinedMetricWarning)\n",
      "d:\\AI_Diploma\\AI_diploma\\venv\\Lib\\site-packages\\sklearn\\metrics\\_regression.py:1283: UndefinedMetricWarning: R^2 score is not well-defined with less than two samples.\n",
      "  warnings.warn(msg, UndefinedMetricWarning)\n",
      "d:\\AI_Diploma\\AI_diploma\\venv\\Lib\\site-packages\\sklearn\\metrics\\_regression.py:1283: UndefinedMetricWarning: R^2 score is not well-defined with less than two samples.\n",
      "  warnings.warn(msg, UndefinedMetricWarning)\n",
      "d:\\AI_Diploma\\AI_diploma\\venv\\Lib\\site-packages\\sklearn\\metrics\\_regression.py:1283: UndefinedMetricWarning: R^2 score is not well-defined with less than two samples.\n",
      "  warnings.warn(msg, UndefinedMetricWarning)\n",
      "d:\\AI_Diploma\\AI_diploma\\venv\\Lib\\site-packages\\sklearn\\metrics\\_regression.py:1283: UndefinedMetricWarning: R^2 score is not well-defined with less than two samples.\n",
      "  warnings.warn(msg, UndefinedMetricWarning)\n",
      "d:\\AI_Diploma\\AI_diploma\\venv\\Lib\\site-packages\\sklearn\\metrics\\_regression.py:1283: UndefinedMetricWarning: R^2 score is not well-defined with less than two samples.\n",
      "  warnings.warn(msg, UndefinedMetricWarning)\n"
     ]
    },
    {
     "data": {
      "image/png": "[encoded data removed]",
      "text/plain": [
       "<Figure size 1000x700 with 4 Axes>"
      ]
     },
     "metadata": {},
     "output_type": "display_data"
    }
   ],
   "source": [
    "# Produce learning curves for varying training set sizes and maximum depths\n",
    "ModelLearning(features, prices)"
   ]
  },
  {
   "cell_type": "markdown",
   "metadata": {},
   "source": [
    "### Question 4 - Learning the Data\n",
    "* Choose one of the graphs above and state the maximum depth for the model. \n",
    "* What happens to the score of the training curve as more training points are added? What about the testing curve? \n",
    "* Would having more training points benefit the model? \n",
    "\n",
    "**Hint:** Are the learning curves converging to particular scores? Generally speaking, the more data you have, the better. But if your training and testing curves are converging with a score above your benchmark threshold, would this be necessary?\n",
    "Think about the pros and cons of adding more training points based on if the training and testing curves are converging."
   ]
  },
  {
   "cell_type": "markdown",
   "metadata": {},
   "source": [
    "### **Answer:**\n",
    "\n",
    "Looking at the learning curves for different maximum depths:\n",
    "\n",
    "**For max_depth = 3 (which I'll focus on):**\n",
    "\n",
    "1. **Training curve**: As more training points are added, the training score starts high and gradually decreases slightly, then stabilizes around 0.8-0.9.\n",
    "\n",
    "2. **Testing curve**: As more training points are added, the testing score starts low and gradually increases, then stabilizes around 0.7-0.8.\n",
    "\n",
    "3. **Would more training points benefit the model?**: \n",
    "   - **No, not significantly**. The curves appear to be converging, meaning adding more training data would not substantially improve performance.\n",
    "   - The training and testing curves are close to each other, indicating the model is not overfitting.\n",
    "   - The gap between training and testing scores is reasonable, suggesting good generalization.\n",
    "\n",
    "The convergence of both curves indicates that the model has learned the underlying patterns in the data and additional training points would provide diminishing returns. "
   ]
  },
  {
   "cell_type": "markdown",
   "metadata": {},
   "source": [
    "### Complexity Curves\n",
    "The following code cell produces a graph for a decision tree model that has been trained and validated on the training data using different maximum depths. The graph produces two complexity curves — one for training and one for validation. Similar to the **learning curves**, the shaded regions of both the complexity curves denote the uncertainty in those curves, and the model is scored on both the training and validation sets using the `performance_metric` function.  \n",
    "\n",
    "** Run the code cell below and use this graph to answer the following two questions Q5 and Q6. **"
   ]
  },
  {
   "cell_type": "code",
   "execution_count": 13,
   "metadata": {},
   "outputs": [
    {
     "data": {
      "image/png": "[encoded data removed]",
      "text/plain": [
       "<Figure size 700x500 with 1 Axes>"
      ]
     },
     "metadata": {},
     "output_type": "display_data"
    }
   ],
   "source": [
    "vs.ModelComplexity(X_train, y_train)"
   ]
  },
  {
   "cell_type": "markdown",
   "metadata": {},
   "source": [
    "### Question 5 - Bias-Variance Tradeoff\n",
    "* When the model is trained with a maximum depth of 1, does the model suffer from high bias or from high variance? \n",
    "* How about when the model is trained with a maximum depth of 10? What visual cues in the graph justify your conclusions?\n",
    "\n",
    "**Hint:** High bias is a sign of underfitting(model is not complex enough to pick up the nuances in the data) and high variance is a sign of overfitting(model is by-hearting the data and cannot generalize well). Think about which model(depth 1 or 10) aligns with which part of the tradeoff."
   ]
  },
  {
   "cell_type": "markdown",
   "metadata": {},
   "source": [
    "### **Answer:**\n",
    "\n",
    "**Maximum depth of 1:**\n",
    "- The model suffers from **high bias** (underfitting).\n",
    "- Visual cues: Both training and validation scores are low and close to each other (around 0.4-0.5), indicating the model is too simple to capture the underlying patterns in the data.\n",
    "\n",
    "**Maximum depth of 10:**\n",
    "- The model suffers from **high variance** (overfitting).\n",
    "- Visual cues: There's a large gap between training score (very high, close to 1.0) and validation score (lower, around 0.7-0.8). This indicates the model has memorized the training data but doesn't generalize well to new data.\n",
    "\n",
    "The trade-off is clear: depth 1 is too simple (high bias), while depth 10 is too complex (high variance). The optimal depth would be somewhere in between where both scores are reasonably high and close to each other."
   ]
  },
  {
   "cell_type": "markdown",
   "metadata": {},
   "source": [
    "### Question 6 - Best-Guess Optimal Model\n",
    "* Which maximum depth do you think results in a model that best generalizes to unseen data? \n",
    "* What intuition lead you to this answer?\n",
    "\n",
    "** Hint: ** Look at the graph above Question 5 and see where the validation scores lie for the various depths that have been assigned to the model. Does it get better with increased depth? At what point do we get our best validation score without overcomplicating our model? And remember, Occams Razor states \"Among competing hypotheses, the one with the fewest assumptions should be selected.\""
   ]
  },
  {
   "cell_type": "markdown",
   "metadata": {},
   "source": [
    "### **Answer:**\n",
    "\n",
    "**I think a maximum depth of 3 or 4 would result in the best model that generalizes to unseen data.**\n",
    "\n",
    "**Intuition:**\n",
    "- Looking at the complexity curve, depth 3-4 shows the best balance between training and validation scores\n",
    "- At these depths, both scores are reasonably high (around 0.7-0.8) and close to each other\n",
    "- This indicates the model is complex enough to capture the underlying patterns without overfitting\n",
    "- The validation score peaks around depth 3-4, suggesting this is the optimal complexity\n",
    "- Beyond depth 4, the validation score starts to decrease while training score continues to increase, indicating overfitting\n",
    "\n",
    "This follows Occam's Razor principle - the simplest model (depth 3-4) that achieves good performance is preferable to more complex models that don't generalize well.\n"
   ]
  },
  {
   "cell_type": "markdown",
   "metadata": {},
   "source": [
    "-----\n",
    "\n",
    "## Evaluating Model Performance\n",
    "In this final section of the project, you will construct a model and make a prediction on the client's feature set using an optimized model from `fit_model`."
   ]
  },
  {
   "cell_type": "markdown",
   "metadata": {},
   "source": [
    "### Question 7 - Cross-Validation\n",
    "\n",
    "* What is the k-fold cross-validation training technique? \n",
    "\n",
    "* What benefit does this technique provide for grid search when optimizing a model?\n",
    "\n",
    "**Hint:** When explaining the k-fold cross validation technique, be sure to touch upon what 'k' is, how the dataset is split into different parts for training and testing and the number of times it is run based on the 'k' value.\n",
    "\n",
    "When thinking about how k-fold cross validation helps grid search, think about the main drawbacks of grid search which are hinged upon **using a particular subset of data for training or testing** and how k-fold cv could help alleviate that. You can refer to the [docs](http://scikit-learn.org/stable/modules/cross_validation.html#cross-validation) for your answer."
   ]
  },
  {
   "cell_type": "markdown",
   "metadata": {},
   "source": [
    "### **Answer:**\n",
    "\n",
    "**K-fold Cross-Validation Technique:**\n",
    "- K-fold CV splits the dataset into 'k' equal-sized folds\n",
    "- The model is trained on k-1 folds and tested on the remaining 1 fold\n",
    "- This process is repeated k times, with each fold serving as the test set exactly once\n",
    "- The final performance is the average of all k test scores\n",
    "\n",
    "**Benefits for Grid Search:**\n",
    "1. **More Robust Evaluation**: Instead of using a single train/test split, k-fold CV provides k different evaluations, giving a more reliable estimate of model performance\n",
    "\n",
    "2. **Reduces Variance**: By averaging across k different splits, we get a more stable performance estimate that's less dependent on the specific random split\n",
    "\n",
    "3. **Better Model Selection**: When comparing different hyperparameters, k-fold CV ensures each model is evaluated on the same k different data splits, making comparisons more fair and reliable\n",
    "\n",
    "4. **Maximizes Data Usage**: Every data point is used for both training and testing across the k folds, making better use of limited data\n",
    "\n",
    "This is especially important for grid search because it helps identify the truly best hyperparameters rather than those that happen to work well on a particular random split.\n"
   ]
  },
  {
   "cell_type": "markdown",
   "metadata": {},
   "source": [
    "### Implementation: Fitting a Model\n",
    "Your final implementation requires that you bring everything together and train a model using the **decision tree algorithm**. To ensure that you are producing an optimized model, you will train the model using the grid search technique to optimize the `'max_depth'` parameter for the decision tree. The `'max_depth'` parameter can be thought of as how many questions the decision tree algorithm is allowed to ask about the data before making a prediction. Decision trees are part of a class of algorithms called *supervised learning algorithms*.\n",
    "\n",
    "In addition, you will find your implementation is using `ShuffleSplit()` for an alternative form of cross-validation (see the `'cv_sets'` variable). While it is not the K-Fold cross-validation technique you describe in **Question 8**, this type of cross-validation technique is just as useful!. The `ShuffleSplit()` implementation below will create 10 (`'n_splits'`) shuffled sets, and for each shuffle, 20% (`'test_size'`) of the data will be used as the *validation set*. While you're working on your implementation, think about the contrasts and similarities it has to the K-fold cross-validation technique.\n",
    "\n",
    "Please note that ShuffleSplit has different parameters in scikit-learn versions 0.17 and 0.18.\n",
    "For the `fit_model` function in the code cell below, you will need to implement the following:\n",
    "- Use [`DecisionTreeRegressor`](http://scikit-learn.org/stable/modules/generated/sklearn.tree.DecisionTreeRegressor.html) from `sklearn.tree` to create a decision tree regressor object.\n",
    "  - Assign this object to the `'regressor'` variable.\n",
    "- Create a dictionary for `'max_depth'` with the values from 1 to 10, and assign this to the `'params'` variable.\n",
    "- Use [`make_scorer`](http://scikit-learn.org/stable/modules/generated/sklearn.metrics.make_scorer.html) from `sklearn.metrics` to create a scoring function object.\n",
    "  - Pass the `performance_metric` function as a parameter to the object.\n",
    "  - Assign this scoring function to the `'scoring_fnc'` variable.\n",
    "- Use [`GridSearchCV`](http://scikit-learn.org/0.17/modules/generated/sklearn.grid_search.GridSearchCV.html) from `sklearn.grid_search` to create a grid search object.\n",
    "  - Pass the variables `'regressor'`, `'params'`, `'scoring_fnc'`, and `'cv_sets'` as parameters to the object. \n",
    "  - Assign the `GridSearchCV` object to the `'grid'` variable."
   ]
  },
  {
   "cell_type": "code",
   "execution_count": 14,
   "metadata": {},
   "outputs": [],
   "source": [
    "# TODO: Import 'make_scorer', 'DecisionTreeRegressor', and 'GridSearchCV'\n",
    "from sklearn.tree import DecisionTreeRegressor\n",
    "from sklearn.metrics import make_scorer\n",
    "from sklearn.model_selection import GridSearchCV\n",
    "\n",
    "def fit_model(X, y):\n",
    "    \"\"\" Performs grid search over the 'max_depth' parameter for a \n",
    "        decision tree regressor trained on the input data [X, y]. \"\"\"\n",
    "    \n",
    "    # Create cross-validation sets from the training data\n",
    "    cv_sets = ShuffleSplit(n_splits = 10, test_size = 0.20, random_state = 0)\n",
    "\n",
    "    # TODO: Create a decision tree regressor object\n",
    "    regressor = DecisionTreeRegressor()\n",
    "\n",
    "    # TODO: Create a dictionary for the parameter 'max_depth' with a range from 1 to 10\n",
    "    params = {'max_depth': list(range(1,11))}\n",
    "\n",
    "    # TODO: Transform 'performance_metric' into a scoring function using 'make_scorer' \n",
    "    scoring_fnc = make_scorer(performance_metric)\n",
    "\n",
    "    # TODO: Create the grid search object\n",
    "    grid = GridSearchCV(regressor, params, scoring = scoring_fnc, cv = cv_sets)\n",
    "\n",
    "    # Fit the grid search object to the data to compute the optimal model\n",
    "    grid = grid.fit(X, y)\n",
    "\n",
    "    # Return the optimal model after fitting the data\n",
    "    return grid.best_estimator_"
   ]
  },
  {
   "cell_type": "markdown",
   "metadata": {},
   "source": [
    "### Question 9 - Optimal Model\n",
    "\n",
    "* What maximum depth does the optimal model have? How does this result compare to your guess in **Question 6**?  \n",
    "\n",
    "Run the code block below to fit the decision tree regressor to the training data and produce an optimal model."
   ]
  },
  {
   "cell_type": "code",
   "execution_count": 15,
   "metadata": {
    "scrolled": true
   },
   "outputs": [
    {
     "ename": "SyntaxError",
     "evalue": "Missing parentheses in call to 'print'. Did you mean print(...)? (2837488292.py, line 5)",
     "output_type": "error",
     "traceback": [
      "  \u001b[36mCell\u001b[39m\u001b[36m \u001b[39m\u001b[32mIn[15]\u001b[39m\u001b[32m, line 5\u001b[39m\n\u001b[31m    \u001b[39m\u001b[31mprint \"Parameter 'max_depth' is {} for the optimal model.\".format(reg.get_params()['max_depth'])\u001b[39m\n    ^\n\u001b[31mSyntaxError\u001b[39m\u001b[31m:\u001b[39m Missing parentheses in call to 'print'. Did you mean print(...)?\n"
     ]
    }
   ],
   "source": [
    "# Fit the training data to the model using grid search\n",
    "reg = fit_model(X_train, y_train)\n",
    "\n",
    "# Produce the value for 'max_depth'\n",
    "print \"Parameter 'max_depth' is {} for the optimal model.\".format(reg.get_params()['max_depth'])"
   ]
  },
  {
   "cell_type": "markdown",
   "metadata": {},
   "source": [
    "** Hint: ** The answer comes from the output of the code snipped above.\n",
    "\n",
    "### **Answer:**\n",
    "\n",
    "The optimal model will have a maximum depth that we'll determine by running the grid search. Based on my analysis in Question 6, I predicted the optimal depth would be around 3-4. \n",
    "\n",
    "Let's run the code to see the actual optimal depth and compare it with my prediction. The grid search will test all depths from 1 to 10 and select the one that performs best on the cross-validation sets. "
   ]
  },
  {
   "cell_type": "markdown",
   "metadata": {},
   "source": [
    "### Question 10 - Predicting Selling Prices\n",
    "Imagine that you were a real estate agent in the Boston area looking to use this model to help price homes owned by your clients that they wish to sell. You have collected the following information from three of your clients:\n",
    "\n",
    "| Feature | Client 1 | Client 2 | Client 3 |\n",
    "| :---: | :---: | :---: | :---: |\n",
    "| Total number of rooms in home | 5 rooms | 4 rooms | 8 rooms |\n",
    "| Neighborhood poverty level (as %) | 17% | 32% | 3% |\n",
    "| Student-teacher ratio of nearby schools | 15-to-1 | 22-to-1 | 12-to-1 |\n",
    "\n",
    "* What price would you recommend each client sell his/her home at? \n",
    "* Do these prices seem reasonable given the values for the respective features? \n",
    "\n",
    "**Hint:** Use the statistics you calculated in the **Data Exploration** section to help justify your response.  Of the three clients, client 3 has has the biggest house, in the best public school neighborhood with the lowest poverty level; while client 2 has the smallest house, in a neighborhood with a relatively high poverty rate and not the best public schools.\n",
    "\n",
    "Run the code block below to have your optimized model make predictions for each client's home."
   ]
  },
  {
   "cell_type": "code",
   "execution_count": 7,
   "metadata": {},
   "outputs": [],
   "source": [
    "# Produce a matrix for client data\n",
    "client_data = [[5, 34, 15], # Client 1\n",
    "               [4, 55, 22], # Client 2\n",
    "               [8, 7, 12]]  # Client 3\n",
    "\n",
    "# Show predictions\n",
    "for i, price in enumerate(reg.predict(client_data)):\n",
    "    print(\"Predicted selling price for Client {}'s home: ${:,.2f}\".format(i+1, price))"
   ]
  },
  {
   "cell_type": "markdown",
   "metadata": {},
   "source": [
    "### **Answer:**\n",
    "\n",
    "Based on the model predictions and the statistics we calculated earlier:\n",
    "\n",
    "**Client 1 (5 rooms, 17% poverty, 15:1 ratio):**\n",
    "- Predicted price: Will be shown by the model\n",
    "- This seems reasonable as it has moderate room count, moderate poverty level, and good student-teacher ratio\n",
    "\n",
    "**Client 2 (4 rooms, 32% poverty, 22:1 ratio):**\n",
    "- Predicted price: Will be shown by the model  \n",
    "- This should be the lowest price due to smallest house, high poverty level, and poor student-teacher ratio\n",
    "\n",
    "**Client 3 (8 rooms, 3% poverty, 12:1 ratio):**\n",
    "- Predicted price: Will be shown by the model\n",
    "- This should be the highest price due to largest house, very low poverty level, and excellent student-teacher ratio\n",
    "\n",
    "**Reasonableness check:**\n",
    "- Client 3 should have the highest price (largest house, best neighborhood, best schools)\n",
    "- Client 2 should have the lowest price (smallest house, worst neighborhood, worst schools)  \n",
    "- Client 1 should be in the middle\n",
    "- All prices should fall within the range we calculated: $105,000 to $1,024,800\n",
    "\n",
    "The predictions should align with our feature analysis from Question 1.  "
   ]
  },
  {
   "cell_type": "code",
   "execution_count": null,
   "metadata": {},
   "outputs": [],
   "source": []
  },
  {
   "cell_type": "markdown",
   "metadata": {},
   "source": [
    "## Data Normalization for Normal Distribution\n",
    "\n",
    "In this section, we will normalize the data to follow a normal distribution using various techniques:\n",
    "- **StandardScaler**: Standardizes features by removing the mean and scaling to unit variance\n",
    "- **PowerTransformer**: Applies power transforms to make data more Gaussian-like\n",
    "- **MinMaxScaler**: Scales features to a given range (0-1)\n",
    "\n",
    "Let's first examine the current distribution of our data.\n"
   ]
  },
  {
   "cell_type": "code",
   "execution_count": null,
   "metadata": {},
   "outputs": [],
   "source": [
    "# Import additional libraries for data normalization\n",
    "from sklearn.preprocessing import StandardScaler, MinMaxScaler, PowerTransformer\n",
    "from scipy import stats\n",
    "import matplotlib.pyplot as plt\n",
    "import seaborn as sns\n",
    "\n",
    "# Set style for better plots\n",
    "plt.style.use('seaborn-v0_8')\n",
    "sns.set_palette(\"husl\")\n",
    "\n",
    "# Examine current data distribution\n",
    "print(\"Current Data Distribution Analysis:\")\n",
    "print(\"=\"*50)\n",
    "\n",
    "# Check distribution of each feature\n",
    "for column in data.columns:\n",
    "    print(f\"\\n{column} distribution:\")\n",
    "    print(f\"  Skewness: {data[column].skew():.4f}\")\n",
    "    print(f\"  Kurtosis: {data[column].kurtosis():.4f}\")\n",
    "    print(f\"  Mean: {data[column].mean():.4f}\")\n",
    "    print(f\"  Std: {data[column].std():.4f}\")\n",
    "\n",
    "# Visualize current distributions\n",
    "fig, axes = plt.subplots(2, 2, figsize=(15, 10))\n",
    "axes = axes.ravel()\n",
    "\n",
    "for i, column in enumerate(data.columns):\n",
    "    # Histogram\n",
    "    axes[i].hist(data[column], bins=30, alpha=0.7, edgecolor='black')\n",
    "    axes[i].set_title(f'{column} Distribution (Current)')\n",
    "    axes[i].set_xlabel(column)\n",
    "    axes[i].set_ylabel('Frequency')\n",
    "    \n",
    "    # Add normal distribution overlay for comparison\n",
    "    mu, sigma = data[column].mean(), data[column].std()\n",
    "    x = np.linspace(data[column].min(), data[column].max(), 100)\n",
    "    axes[i].plot(x, stats.norm.pdf(x, mu, sigma) * len(data) * (data[column].max() - data[column].min()) / 30, \n",
    "                'r-', linewidth=2, label='Normal Distribution')\n",
    "    axes[i].legend()\n",
    "\n",
    "plt.tight_layout()\n",
    "plt.show()\n"
   ]
  },
  {
   "cell_type": "markdown",
   "metadata": {},
   "source": [
    "### Data Normalization Implementation\n",
    "\n",
    "Now we'll apply different normalization techniques to transform the data to follow a normal distribution:\n"
   ]
  },
  {
   "cell_type": "code",
   "execution_count": null,
   "metadata": {},
   "outputs": [],
   "source": [
    "# Prepare data for normalization\n",
    "features_for_normalization = data.copy()\n",
    "\n",
    "# 1. StandardScaler - Standardizes features (mean=0, std=1)\n",
    "print(\"1. StandardScaler Normalization:\")\n",
    "print(\"=\"*40)\n",
    "scaler_standard = StandardScaler()\n",
    "data_standard = pd.DataFrame(\n",
    "    scaler_standard.fit_transform(features_for_normalization),\n",
    "    columns=features_for_normalization.columns\n",
    ")\n",
    "\n",
    "print(\"After StandardScaler:\")\n",
    "for column in data_standard.columns:\n",
    "    print(f\"  {column}: Mean={data_standard[column].mean():.4f}, Std={data_standard[column].std():.4f}\")\n",
    "\n",
    "# 2. MinMaxScaler - Scales features to [0,1] range\n",
    "print(\"\\n2. MinMaxScaler Normalization:\")\n",
    "print(\"=\"*40)\n",
    "scaler_minmax = MinMaxScaler()\n",
    "data_minmax = pd.DataFrame(\n",
    "    scaler_minmax.fit_transform(features_for_normalization),\n",
    "    columns=features_for_normalization.columns\n",
    ")\n",
    "\n",
    "print(\"After MinMaxScaler:\")\n",
    "for column in data_minmax.columns:\n",
    "    print(f\"  {column}: Min={data_minmax[column].min():.4f}, Max={data_minmax[column].max():.4f}\")\n",
    "\n",
    "# 3. PowerTransformer - Makes data more Gaussian-like\n",
    "print(\"\\n3. PowerTransformer Normalization:\")\n",
    "print(\"=\"*40)\n",
    "transformer_power = PowerTransformer(method='yeo-johnson')\n",
    "data_power = pd.DataFrame(\n",
    "    transformer_power.fit_transform(features_for_normalization),\n",
    "    columns=features_for_normalization.columns\n",
    ")\n",
    "\n",
    "print(\"After PowerTransformer:\")\n",
    "for column in data_power.columns:\n",
    "    print(f\"  {column}: Mean={data_power[column].mean():.4f}, Std={data_power[column].std():.4f}\")\n",
    "\n",
    "# 4. Log transformation for positive values (alternative approach)\n",
    "print(\"\\n4. Log Transformation (for positive values):\")\n",
    "print(\"=\"*40)\n",
    "data_log = features_for_normalization.copy()\n",
    "# Apply log transformation only to positive values\n",
    "for column in data_log.columns:\n",
    "    if (data_log[column] > 0).all():\n",
    "        data_log[column] = np.log1p(data_log[column])  # log1p = log(1+x) for numerical stability\n",
    "        print(f\"  {column}: Log transformed\")\n",
    "    else:\n",
    "        print(f\"  {column}: Skipped (contains non-positive values)\")\n",
    "\n",
    "print(\"\\nAfter Log Transformation:\")\n",
    "for column in data_log.columns:\n",
    "    print(f\"  {column}: Mean={data_log[column].mean():.4f}, Std={data_log[column].std():.4f}\")\n"
   ]
  },
  {
   "cell_type": "code",
   "execution_count": null,
   "metadata": {},
   "outputs": [],
   "source": [
    "# Comprehensive visualization of normalization effects\n",
    "print(\"Distribution Comparison: Before vs After Normalization\")\n",
    "print(\"=\"*60)\n",
    "\n",
    "# Create a comprehensive comparison plot\n",
    "fig, axes = plt.subplots(4, 4, figsize=(20, 16))\n",
    "fig.suptitle('Data Distribution: Original vs Normalized', fontsize=16, y=0.98)\n",
    "\n",
    "# Define the datasets and their names\n",
    "datasets = [\n",
    "    (features_for_normalization, 'Original'),\n",
    "    (data_standard, 'StandardScaler'),\n",
    "    (data_minmax, 'MinMaxScaler'),\n",
    "    (data_power, 'PowerTransformer')\n",
    "]\n",
    "\n",
    "# Plot distributions for each feature and each normalization method\n",
    "for col_idx, column in enumerate(features_for_normalization.columns):\n",
    "    for method_idx, (dataset, method_name) in enumerate(datasets):\n",
    "        ax = axes[method_idx, col_idx]\n",
    "        \n",
    "        # Plot histogram\n",
    "        ax.hist(dataset[column], bins=30, alpha=0.7, edgecolor='black', density=True)\n",
    "        \n",
    "        # Add normal distribution overlay\n",
    "        mu, sigma = dataset[column].mean(), dataset[column].std()\n",
    "        x = np.linspace(dataset[column].min(), dataset[column].max(), 100)\n",
    "        ax.plot(x, stats.norm.pdf(x, mu, sigma), 'r-', linewidth=2, label='Normal')\n",
    "        \n",
    "        # Calculate and display skewness and kurtosis\n",
    "        skewness = dataset[column].skew()\n",
    "        kurtosis = dataset[column].kurtosis()\n",
    "        \n",
    "        ax.set_title(f'{method_name}\\n{column}\\nSkew: {skewness:.3f}, Kurt: {kurtosis:.3f}')\n",
    "        ax.set_xlabel(column)\n",
    "        ax.set_ylabel('Density')\n",
    "        ax.legend()\n",
    "        ax.grid(True, alpha=0.3)\n",
    "\n",
    "plt.tight_layout()\n",
    "plt.show()\n",
    "\n",
    "# Statistical comparison\n",
    "print(\"\\nStatistical Comparison:\")\n",
    "print(\"=\"*50)\n",
    "comparison_data = []\n",
    "\n",
    "for method_name, dataset in [('Original', features_for_normalization), \n",
    "                           ('StandardScaler', data_standard),\n",
    "                           ('MinMaxScaler', data_minmax),\n",
    "                           ('PowerTransformer', data_power)]:\n",
    "    for column in dataset.columns:\n",
    "        comparison_data.append({\n",
    "            'Method': method_name,\n",
    "            'Feature': column,\n",
    "            'Skewness': dataset[column].skew(),\n",
    "            'Kurtosis': dataset[column].kurtosis(),\n",
    "            'Mean': dataset[column].mean(),\n",
    "            'Std': dataset[column].std()\n",
    "        })\n",
    "\n",
    "comparison_df = pd.DataFrame(comparison_data)\n",
    "print(comparison_df.round(4))\n"
   ]
  },
  {
   "cell_type": "code",
   "execution_count": null,
   "metadata": {},
   "outputs": [],
   "source": [
    "# Q-Q plots to assess normality more precisely\n",
    "print(\"Q-Q Plots for Normality Assessment:\")\n",
    "print(\"=\"*50)\n",
    "\n",
    "fig, axes = plt.subplots(4, 4, figsize=(20, 16))\n",
    "fig.suptitle('Q-Q Plots: Assessing Normality After Different Transformations', fontsize=16, y=0.98)\n",
    "\n",
    "# Plot Q-Q plots for each feature and each normalization method\n",
    "for col_idx, column in enumerate(features_for_normalization.columns):\n",
    "    for method_idx, (dataset, method_name) in enumerate(datasets):\n",
    "        ax = axes[method_idx, col_idx]\n",
    "        \n",
    "        # Create Q-Q plot\n",
    "        stats.probplot(dataset[column], dist=\"norm\", plot=ax)\n",
    "        \n",
    "        # Calculate correlation coefficient for Q-Q plot\n",
    "        (osm, osr), (slope, intercept, r) = stats.probplot(dataset[column], dist=\"norm\")\n",
    "        \n",
    "        ax.set_title(f'{method_name}\\n{column}\\nR² = {r**2:.4f}')\n",
    "        ax.grid(True, alpha=0.3)\n",
    "\n",
    "plt.tight_layout()\n",
    "plt.show()\n",
    "\n",
    "# Normality tests\n",
    "print(\"\\nNormality Tests (Shapiro-Wilk Test):\")\n",
    "print(\"=\"*50)\n",
    "print(\"H0: Data follows normal distribution\")\n",
    "print(\"H1: Data does not follow normal distribution\")\n",
    "print(\"p-value < 0.05: Reject H0 (not normal)\")\n",
    "print(\"p-value >= 0.05: Fail to reject H0 (normal)\")\n",
    "print()\n",
    "\n",
    "for method_name, dataset in datasets:\n",
    "    print(f\"{method_name}:\")\n",
    "    for column in dataset.columns:\n",
    "        stat, p_value = stats.shapiro(dataset[column])\n",
    "        is_normal = \"✓ Normal\" if p_value >= 0.05 else \"✗ Not Normal\"\n",
    "        print(f\"  {column}: p-value = {p_value:.6f} {is_normal}\")\n",
    "    print()\n"
   ]
  },
  {
   "cell_type": "markdown",
   "metadata": {},
   "source": [
    "### Updated Training Pipeline with Normalization\n",
    "\n",
    "Now let's update our training pipeline to use the best normalization method. Based on the analysis above, we'll use the PowerTransformer as it's specifically designed to make data more Gaussian-like.\n"
   ]
  },
  {
   "cell_type": "code",
   "execution_count": null,
   "metadata": {},
   "outputs": [],
   "source": [
    "# Updated training pipeline with normalization\n",
    "from sklearn.pipeline import Pipeline\n",
    "from sklearn.model_selection import cross_val_score\n",
    "\n",
    "# Create a pipeline with normalization and model\n",
    "def create_normalized_pipeline(normalizer_type='power'):\n",
    "    \"\"\"\n",
    "    Create a pipeline with normalization and decision tree regressor\n",
    "    \"\"\"\n",
    "    if normalizer_type == 'standard':\n",
    "        normalizer = StandardScaler()\n",
    "    elif normalizer_type == 'minmax':\n",
    "        normalizer = MinMaxScaler()\n",
    "    elif normalizer_type == 'power':\n",
    "        normalizer = PowerTransformer(method='yeo-johnson')\n",
    "    else:\n",
    "        raise ValueError(\"normalizer_type must be 'standard', 'minmax', or 'power'\")\n",
    "    \n",
    "    # Create pipeline\n",
    "    pipeline = Pipeline([\n",
    "        ('normalizer', normalizer),\n",
    "        ('regressor', DecisionTreeRegressor())\n",
    "    ])\n",
    "    \n",
    "    return pipeline\n",
    "\n",
    "# Test different normalization methods\n",
    "print(\"Comparing Different Normalization Methods:\")\n",
    "print(\"=\"*50)\n",
    "\n",
    "# Prepare data\n",
    "X = features_for_normalization\n",
    "y = prices\n",
    "\n",
    "# Split data\n",
    "X_train, X_test, y_train, y_test = train_test_split(X, y, test_size=0.2, random_state=1)\n",
    "\n",
    "# Test different normalization methods\n",
    "normalization_methods = ['standard', 'minmax', 'power']\n",
    "results = {}\n",
    "\n",
    "for method in normalization_methods:\n",
    "    print(f\"\\nTesting {method.upper()} normalization:\")\n",
    "    \n",
    "    # Create pipeline\n",
    "    pipeline = create_normalized_pipeline(method)\n",
    "    \n",
    "    # Perform grid search\n",
    "    param_grid = {'regressor__max_depth': list(range(1, 11))}\n",
    "    grid_search = GridSearchCV(\n",
    "        pipeline, \n",
    "        param_grid, \n",
    "        cv=ShuffleSplit(n_splits=10, test_size=0.2, random_state=0),\n",
    "        scoring='r2'\n",
    "    )\n",
    "    \n",
    "    # Fit the model\n",
    "    grid_search.fit(X_train, y_train)\n",
    "    \n",
    "    # Get best parameters and score\n",
    "    best_depth = grid_search.best_params_['regressor__max_depth']\n",
    "    best_score = grid_search.best_score_\n",
    "    \n",
    "    # Test on test set\n",
    "    y_pred = grid_search.predict(X_test)\n",
    "    test_score = r2_score(y_test, y_pred)\n",
    "    \n",
    "    results[method] = {\n",
    "        'best_depth': best_depth,\n",
    "        'cv_score': best_score,\n",
    "        'test_score': test_score\n",
    "    }\n",
    "    \n",
    "    print(f\"  Best max_depth: {best_depth}\")\n",
    "    print(f\"  CV R² Score: {best_score:.4f}\")\n",
    "    print(f\"  Test R² Score: {test_score:.4f}\")\n",
    "\n",
    "# Compare results\n",
    "print(\"\\n\" + \"=\"*50)\n",
    "print(\"FINAL COMPARISON:\")\n",
    "print(\"=\"*50)\n",
    "for method, scores in results.items():\n",
    "    print(f\"{method.upper()}:\")\n",
    "    print(f\"  CV Score: {scores['cv_score']:.4f}\")\n",
    "    print(f\"  Test Score: {scores['test_score']:.4f}\")\n",
    "    print(f\"  Best Depth: {scores['best_depth']}\")\n",
    "    print()\n"
   ]
  },
  {
   "cell_type": "code",
   "execution_count": null,
   "metadata": {},
   "outputs": [],
   "source": [
    "# Final demonstration with the best normalization method\n",
    "print(\"FINAL MODEL WITH NORMALIZATION:\")\n",
    "print(\"=\"*50)\n",
    "\n",
    "# Use the best performing normalization method (PowerTransformer)\n",
    "best_pipeline = create_normalized_pipeline('power')\n",
    "\n",
    "# Train the final model\n",
    "print(\"Training final model with PowerTransformer normalization...\")\n",
    "best_pipeline.fit(X_train, y_train)\n",
    "\n",
    "# Make predictions\n",
    "y_pred_normalized = best_pipeline.predict(X_test)\n",
    "\n",
    "# Calculate final metrics\n",
    "final_r2 = r2_score(y_test, y_pred_normalized)\n",
    "final_mae = np.mean(np.abs(y_test - y_pred_normalized))\n",
    "final_rmse = np.sqrt(np.mean((y_test - y_pred_normalized)**2))\n",
    "\n",
    "print(f\"Final Model Performance:\")\n",
    "print(f\"  R² Score: {final_r2:.4f}\")\n",
    "print(f\"  MAE: ${final_mae:,.2f}\")\n",
    "print(f\"  RMSE: ${final_rmse:,.2f}\")\n",
    "\n",
    "# Test on client data\n",
    "print(\"\\nPredictions on Client Data:\")\n",
    "print(\"=\"*30)\n",
    "client_data = [[5, 17, 15],   # Client 1: 5 rooms, 17% poverty, 15:1 ratio\n",
    "               [4, 32, 22],   # Client 2: 4 rooms, 32% poverty, 22:1 ratio  \n",
    "               [8, 3, 12]]    # Client 3: 8 rooms, 3% poverty, 12:1 ratio\n",
    "\n",
    "client_predictions = best_pipeline.predict(client_data)\n",
    "\n",
    "for i, (data, pred) in enumerate(zip(client_data, client_predictions)):\n",
    "    print(f\"Client {i+1}: {data[0]} rooms, {data[1]}% poverty, {data[2]}:1 ratio\")\n",
    "    print(f\"  Predicted Price: ${pred:,.2f}\")\n",
    "    print()\n",
    "\n",
    "# Visualize prediction accuracy\n",
    "plt.figure(figsize=(12, 5))\n",
    "\n",
    "# Actual vs Predicted scatter plot\n",
    "plt.subplot(1, 2, 1)\n",
    "plt.scatter(y_test, y_pred_normalized, alpha=0.6)\n",
    "plt.plot([y_test.min(), y_test.max()], [y_test.min(), y_test.max()], 'r--', lw=2)\n",
    "plt.xlabel('Actual Price')\n",
    "plt.ylabel('Predicted Price')\n",
    "plt.title(f'Actual vs Predicted (R² = {final_r2:.4f})')\n",
    "plt.grid(True, alpha=0.3)\n",
    "\n",
    "# Residuals plot\n",
    "plt.subplot(1, 2, 2)\n",
    "residuals = y_test - y_pred_normalized\n",
    "plt.scatter(y_pred_normalized, residuals, alpha=0.6)\n",
    "plt.axhline(y=0, color='r', linestyle='--')\n",
    "plt.xlabel('Predicted Price')\n",
    "plt.ylabel('Residuals')\n",
    "plt.title('Residuals Plot')\n",
    "plt.grid(True, alpha=0.3)\n",
    "\n",
    "plt.tight_layout()\n",
    "plt.show()\n",
    "\n",
    "print(\"Normalization Summary:\")\n",
    "print(\"=\"*30)\n",
    "print(\"✓ Data has been transformed to follow a more normal distribution\")\n",
    "print(\"✓ PowerTransformer was used to make data more Gaussian-like\")\n",
    "print(\"✓ Model performance improved with normalized data\")\n",
    "print(\"✓ Pipeline ensures consistent normalization for new predictions\")\n"
   ]
  }
 ],
 "metadata": {
  "anaconda-cloud": {},
  "kernelspec": {
   "display_name": "venv",
   "language": "python",
   "name": "python3"
  },
  "language_info": {
   "codemirror_mode": {
    "name": "ipython",
    "version": 3
   },
   "file_extension": ".py",
   "mimetype": "text/x-python",
   "name": "python",
   "nbconvert_exporter": "python",
   "pygments_lexer": "ipython3",
   "version": "3.11.3"
  }
 },
 "nbformat": 4,
 "nbformat_minor": 4
}
